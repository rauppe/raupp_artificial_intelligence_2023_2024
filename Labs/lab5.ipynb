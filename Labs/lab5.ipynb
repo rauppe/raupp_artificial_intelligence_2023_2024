{
 "cells": [
  {
   "cell_type": "code",
   "execution_count": 150,
   "id": "26479346-2edb-448a-8760-967b0f5ac92e",
   "metadata": {},
   "outputs": [],
   "source": [
    "%reload_ext autoreload\n",
    "%autoreload 2\n",
    "%matplotlib inline"
   ]
  },
  {
   "cell_type": "code",
   "execution_count": 151,
   "id": "3dc9d65f-77f7-4ec2-a8bf-72f110d5992b",
   "metadata": {},
   "outputs": [],
   "source": [
    "import pandas as pd\n",
    "import numpy as np\n",
    "import matplotlib.pyplot as plt\n",
    "\n",
    "from sklearn.model_selection import train_test_split\n",
    "from sklearn.model_selection import GridSearchCV\n",
    "from sklearn.model_selection import cross_validate\n",
    "from sklearn.model_selection import cross_val_score\n",
    "\n",
    "from sklearn.metrics import accuracy_score\n",
    "from sklearn.metrics import confusion_matrix, ConfusionMatrixDisplay\n",
    "\n",
    "from sklearn.compose import ColumnTransformer\n",
    "from sklearn.pipeline import Pipeline\n",
    "\n",
    "from sklearn.impute import SimpleImputer\n",
    "from sklearn.preprocessing import LabelEncoder\n",
    "from sklearn.preprocessing import StandardScaler\n",
    "from sklearn.preprocessing import OneHotEncoder\n",
    "\n",
    "from sklearn.dummy import DummyClassifier\n",
    "from sklearn.neighbors import KNeighborsClassifier\n",
    "from sklearn.linear_model import LogisticRegression\n",
    "\n",
    "from sklearn.datasets import load_iris"
   ]
  },
  {
   "cell_type": "markdown",
   "id": "fc0efcda-612c-4922-8c24-6003e74fab75",
   "metadata": {},
   "source": [
    "<h1> Modifying 1_12 to fit alcohol dataset</h1>"
   ]
  },
  {
   "cell_type": "code",
   "execution_count": 152,
   "id": "93fbf56d-0cd9-4317-aa3d-ca421333a7b5",
   "metadata": {},
   "outputs": [],
   "source": [
    "# Use pandas to read the CSV file into a DataFrame\n",
    "df = pd.read_csv(\"./ai1/datasets/dataset_alcohol.csv\")"
   ]
  },
  {
   "cell_type": "code",
   "execution_count": 153,
   "id": "b7344175-2786-431f-a241-871fdc1d2034",
   "metadata": {},
   "outputs": [
    {
     "data": {
      "text/plain": [
       "(76, 9)"
      ]
     },
     "execution_count": 153,
     "metadata": {},
     "output_type": "execute_result"
    }
   ],
   "source": [
    "df.shape"
   ]
  },
  {
   "cell_type": "code",
   "execution_count": 154,
   "id": "d802f7b6-39d5-4cad-a2e3-2b0e67638722",
   "metadata": {},
   "outputs": [
    {
     "name": "stdout",
     "output_type": "stream",
     "text": [
      "<class 'pandas.core.frame.DataFrame'>\n",
      "RangeIndex: 76 entries, 0 to 75\n",
      "Data columns (total 9 columns):\n",
      " #   Column         Non-Null Count  Dtype  \n",
      "---  ------         --------------  -----  \n",
      " 0   age_yrs        76 non-null     int64  \n",
      " 1   height_cm      76 non-null     int64  \n",
      " 2   weight_kg      76 non-null     int64  \n",
      " 3   duration_mins  76 non-null     object \n",
      " 4   elapsed_mins   76 non-null     object \n",
      " 5   sex            76 non-null     object \n",
      " 6   last_meal      65 non-null     object \n",
      " 7   units          76 non-null     float64\n",
      " 8   over_limit     76 non-null     object \n",
      "dtypes: float64(1), int64(3), object(5)\n",
      "memory usage: 5.5+ KB\n"
     ]
    }
   ],
   "source": [
    "df.info()"
   ]
  },
  {
   "cell_type": "code",
   "execution_count": 155,
   "id": "a6692e10-1dd8-4b57-9ce4-18d69e968ea4",
   "metadata": {},
   "outputs": [
    {
     "data": {
      "text/html": [
       "<div>\n",
       "<style scoped>\n",
       "    .dataframe tbody tr th:only-of-type {\n",
       "        vertical-align: middle;\n",
       "    }\n",
       "\n",
       "    .dataframe tbody tr th {\n",
       "        vertical-align: top;\n",
       "    }\n",
       "\n",
       "    .dataframe thead th {\n",
       "        text-align: right;\n",
       "    }\n",
       "</style>\n",
       "<table border=\"1\" class=\"dataframe\">\n",
       "  <thead>\n",
       "    <tr style=\"text-align: right;\">\n",
       "      <th></th>\n",
       "      <th>age_yrs</th>\n",
       "      <th>height_cm</th>\n",
       "      <th>weight_kg</th>\n",
       "      <th>duration_mins</th>\n",
       "      <th>elapsed_mins</th>\n",
       "      <th>sex</th>\n",
       "      <th>last_meal</th>\n",
       "      <th>units</th>\n",
       "      <th>over_limit</th>\n",
       "    </tr>\n",
       "  </thead>\n",
       "  <tbody>\n",
       "    <tr>\n",
       "      <th>count</th>\n",
       "      <td>76.000000</td>\n",
       "      <td>76.000000</td>\n",
       "      <td>76.000000</td>\n",
       "      <td>76</td>\n",
       "      <td>76</td>\n",
       "      <td>76</td>\n",
       "      <td>65</td>\n",
       "      <td>76.000000</td>\n",
       "      <td>76</td>\n",
       "    </tr>\n",
       "    <tr>\n",
       "      <th>unique</th>\n",
       "      <td>NaN</td>\n",
       "      <td>NaN</td>\n",
       "      <td>NaN</td>\n",
       "      <td>16</td>\n",
       "      <td>9</td>\n",
       "      <td>2</td>\n",
       "      <td>4</td>\n",
       "      <td>NaN</td>\n",
       "      <td>2</td>\n",
       "    </tr>\n",
       "    <tr>\n",
       "      <th>top</th>\n",
       "      <td>NaN</td>\n",
       "      <td>NaN</td>\n",
       "      <td>NaN</td>\n",
       "      <td>120</td>\n",
       "      <td>10</td>\n",
       "      <td>Male</td>\n",
       "      <td>Full</td>\n",
       "      <td>NaN</td>\n",
       "      <td>No</td>\n",
       "    </tr>\n",
       "    <tr>\n",
       "      <th>freq</th>\n",
       "      <td>NaN</td>\n",
       "      <td>NaN</td>\n",
       "      <td>NaN</td>\n",
       "      <td>15</td>\n",
       "      <td>61</td>\n",
       "      <td>60</td>\n",
       "      <td>33</td>\n",
       "      <td>NaN</td>\n",
       "      <td>46</td>\n",
       "    </tr>\n",
       "    <tr>\n",
       "      <th>mean</th>\n",
       "      <td>22.657895</td>\n",
       "      <td>176.644737</td>\n",
       "      <td>71.486842</td>\n",
       "      <td>NaN</td>\n",
       "      <td>NaN</td>\n",
       "      <td>NaN</td>\n",
       "      <td>NaN</td>\n",
       "      <td>8.632895</td>\n",
       "      <td>NaN</td>\n",
       "    </tr>\n",
       "    <tr>\n",
       "      <th>std</th>\n",
       "      <td>5.627439</td>\n",
       "      <td>8.453329</td>\n",
       "      <td>11.474602</td>\n",
       "      <td>NaN</td>\n",
       "      <td>NaN</td>\n",
       "      <td>NaN</td>\n",
       "      <td>NaN</td>\n",
       "      <td>5.775567</td>\n",
       "      <td>NaN</td>\n",
       "    </tr>\n",
       "    <tr>\n",
       "      <th>min</th>\n",
       "      <td>18.000000</td>\n",
       "      <td>157.000000</td>\n",
       "      <td>47.000000</td>\n",
       "      <td>NaN</td>\n",
       "      <td>NaN</td>\n",
       "      <td>NaN</td>\n",
       "      <td>NaN</td>\n",
       "      <td>0.000000</td>\n",
       "      <td>NaN</td>\n",
       "    </tr>\n",
       "    <tr>\n",
       "      <th>25%</th>\n",
       "      <td>19.000000</td>\n",
       "      <td>172.000000</td>\n",
       "      <td>63.000000</td>\n",
       "      <td>NaN</td>\n",
       "      <td>NaN</td>\n",
       "      <td>NaN</td>\n",
       "      <td>NaN</td>\n",
       "      <td>4.275000</td>\n",
       "      <td>NaN</td>\n",
       "    </tr>\n",
       "    <tr>\n",
       "      <th>50%</th>\n",
       "      <td>21.000000</td>\n",
       "      <td>177.000000</td>\n",
       "      <td>72.000000</td>\n",
       "      <td>NaN</td>\n",
       "      <td>NaN</td>\n",
       "      <td>NaN</td>\n",
       "      <td>NaN</td>\n",
       "      <td>8.400000</td>\n",
       "      <td>NaN</td>\n",
       "    </tr>\n",
       "    <tr>\n",
       "      <th>75%</th>\n",
       "      <td>23.000000</td>\n",
       "      <td>182.000000</td>\n",
       "      <td>79.000000</td>\n",
       "      <td>NaN</td>\n",
       "      <td>NaN</td>\n",
       "      <td>NaN</td>\n",
       "      <td>NaN</td>\n",
       "      <td>12.100000</td>\n",
       "      <td>NaN</td>\n",
       "    </tr>\n",
       "    <tr>\n",
       "      <th>max</th>\n",
       "      <td>45.000000</td>\n",
       "      <td>200.000000</td>\n",
       "      <td>101.000000</td>\n",
       "      <td>NaN</td>\n",
       "      <td>NaN</td>\n",
       "      <td>NaN</td>\n",
       "      <td>NaN</td>\n",
       "      <td>31.200000</td>\n",
       "      <td>NaN</td>\n",
       "    </tr>\n",
       "  </tbody>\n",
       "</table>\n",
       "</div>"
      ],
      "text/plain": [
       "          age_yrs   height_cm   weight_kg duration_mins elapsed_mins   sex  \\\n",
       "count   76.000000   76.000000   76.000000            76           76    76   \n",
       "unique        NaN         NaN         NaN            16            9     2   \n",
       "top           NaN         NaN         NaN           120           10  Male   \n",
       "freq          NaN         NaN         NaN            15           61    60   \n",
       "mean    22.657895  176.644737   71.486842           NaN          NaN   NaN   \n",
       "std      5.627439    8.453329   11.474602           NaN          NaN   NaN   \n",
       "min     18.000000  157.000000   47.000000           NaN          NaN   NaN   \n",
       "25%     19.000000  172.000000   63.000000           NaN          NaN   NaN   \n",
       "50%     21.000000  177.000000   72.000000           NaN          NaN   NaN   \n",
       "75%     23.000000  182.000000   79.000000           NaN          NaN   NaN   \n",
       "max     45.000000  200.000000  101.000000           NaN          NaN   NaN   \n",
       "\n",
       "       last_meal      units over_limit  \n",
       "count         65  76.000000         76  \n",
       "unique         4        NaN          2  \n",
       "top         Full        NaN         No  \n",
       "freq          33        NaN         46  \n",
       "mean         NaN   8.632895        NaN  \n",
       "std          NaN   5.775567        NaN  \n",
       "min          NaN   0.000000        NaN  \n",
       "25%          NaN   4.275000        NaN  \n",
       "50%          NaN   8.400000        NaN  \n",
       "75%          NaN  12.100000        NaN  \n",
       "max          NaN  31.200000        NaN  "
      ]
     },
     "execution_count": 155,
     "metadata": {},
     "output_type": "execute_result"
    }
   ],
   "source": [
    "df.describe(include=\"all\")"
   ]
  },
  {
   "cell_type": "code",
   "execution_count": 156,
   "id": "3abec958-c178-4381-8f88-db5d41626cfe",
   "metadata": {},
   "outputs": [
    {
     "data": {
      "text/html": [
       "<div>\n",
       "<style scoped>\n",
       "    .dataframe tbody tr th:only-of-type {\n",
       "        vertical-align: middle;\n",
       "    }\n",
       "\n",
       "    .dataframe tbody tr th {\n",
       "        vertical-align: top;\n",
       "    }\n",
       "\n",
       "    .dataframe thead th {\n",
       "        text-align: right;\n",
       "    }\n",
       "</style>\n",
       "<table border=\"1\" class=\"dataframe\">\n",
       "  <thead>\n",
       "    <tr style=\"text-align: right;\">\n",
       "      <th></th>\n",
       "      <th>age_yrs</th>\n",
       "      <th>height_cm</th>\n",
       "      <th>weight_kg</th>\n",
       "      <th>duration_mins</th>\n",
       "      <th>elapsed_mins</th>\n",
       "      <th>sex</th>\n",
       "      <th>last_meal</th>\n",
       "      <th>units</th>\n",
       "      <th>over_limit</th>\n",
       "    </tr>\n",
       "  </thead>\n",
       "  <tbody>\n",
       "    <tr>\n",
       "      <th>0</th>\n",
       "      <td>40</td>\n",
       "      <td>170</td>\n",
       "      <td>75</td>\n",
       "      <td>?</td>\n",
       "      <td>?</td>\n",
       "      <td>Male</td>\n",
       "      <td>Lunch</td>\n",
       "      <td>0.0</td>\n",
       "      <td>No</td>\n",
       "    </tr>\n",
       "    <tr>\n",
       "      <th>1</th>\n",
       "      <td>26</td>\n",
       "      <td>177</td>\n",
       "      <td>76</td>\n",
       "      <td>60</td>\n",
       "      <td>10</td>\n",
       "      <td>Male</td>\n",
       "      <td>Full</td>\n",
       "      <td>2.9</td>\n",
       "      <td>No</td>\n",
       "    </tr>\n",
       "    <tr>\n",
       "      <th>2</th>\n",
       "      <td>24</td>\n",
       "      <td>160</td>\n",
       "      <td>60</td>\n",
       "      <td>60</td>\n",
       "      <td>10</td>\n",
       "      <td>Female</td>\n",
       "      <td>Full</td>\n",
       "      <td>2.6</td>\n",
       "      <td>No</td>\n",
       "    </tr>\n",
       "    <tr>\n",
       "      <th>3</th>\n",
       "      <td>29</td>\n",
       "      <td>160</td>\n",
       "      <td>63</td>\n",
       "      <td>90</td>\n",
       "      <td>10</td>\n",
       "      <td>Female</td>\n",
       "      <td>Full</td>\n",
       "      <td>1.2</td>\n",
       "      <td>No</td>\n",
       "    </tr>\n",
       "    <tr>\n",
       "      <th>4</th>\n",
       "      <td>23</td>\n",
       "      <td>182</td>\n",
       "      <td>63</td>\n",
       "      <td>120</td>\n",
       "      <td>10</td>\n",
       "      <td>Male</td>\n",
       "      <td>Full</td>\n",
       "      <td>5.2</td>\n",
       "      <td>No</td>\n",
       "    </tr>\n",
       "  </tbody>\n",
       "</table>\n",
       "</div>"
      ],
      "text/plain": [
       "   age_yrs  height_cm  weight_kg duration_mins elapsed_mins     sex last_meal  \\\n",
       "0       40        170         75             ?            ?    Male     Lunch   \n",
       "1       26        177         76            60           10    Male      Full   \n",
       "2       24        160         60            60           10  Female      Full   \n",
       "3       29        160         63            90           10  Female      Full   \n",
       "4       23        182         63           120           10    Male      Full   \n",
       "\n",
       "   units over_limit  \n",
       "0    0.0         No  \n",
       "1    2.9         No  \n",
       "2    2.6         No  \n",
       "3    1.2         No  \n",
       "4    5.2         No  "
      ]
     },
     "execution_count": 156,
     "metadata": {},
     "output_type": "execute_result"
    }
   ],
   "source": [
    "df.head()"
   ]
  },
  {
   "cell_type": "code",
   "execution_count": null,
   "id": "0d03c70c-366f-4cd5-b10c-90ee3c4b6f97",
   "metadata": {},
   "outputs": [],
   "source": []
  },
  {
   "cell_type": "code",
   "execution_count": 157,
   "id": "15fd874d-7ff3-4d4c-b8a2-cc8740dd2ba8",
   "metadata": {},
   "outputs": [],
   "source": [
    "# The features\n",
    "features = [\"age_yrs\", \"height_cm\", \"weight_kg\", \"duration_mins\", \"elapsed_mins\", \"sex\", \"last_meal\", \"units\"]\n",
    "\n",
    "# split features into nominal vs numeric\n",
    "numeric_features = [\"age_yrs\", \"height_cm\", \"weight_kg\", \"units\" , \"duration_mins\", \"elapsed_mins\"]\n",
    "nominal_features = [\"sex\", \"last_meal\"]"
   ]
  },
  {
   "cell_type": "code",
   "execution_count": 158,
   "id": "a9387d54-ab9e-48a3-ad39-5f4dcdcfb25f",
   "metadata": {},
   "outputs": [
    {
     "name": "stdout",
     "output_type": "stream",
     "text": [
      "sex ['Male' 'Female']\n",
      "last_meal ['Lunch' 'Full' 'Snack' '?' nan]\n"
     ]
    }
   ],
   "source": [
    "# The values, in the case of nominal-valued features\n",
    "for feature in nominal_features:\n",
    "    print(feature, df[feature].unique())"
   ]
  },
  {
   "cell_type": "code",
   "execution_count": 159,
   "id": "94f5ef07-b69b-4d9c-8a30-fdffd272c158",
   "metadata": {},
   "outputs": [
    {
     "data": {
      "text/plain": [
       "(73, 9)"
      ]
     },
     "execution_count": 159,
     "metadata": {},
     "output_type": "execute_result"
    }
   ],
   "source": [
    "# Delete examples with Nan\n",
    "# could also reaplce them with imputer later, must replace ? to NAN (was not right move here, both were non-drinkers)\n",
    "#df.dropna(subset=[\"last_meal\"], inplace=True) << dont do because not much data\n",
    "\n",
    "#delete question marks\n",
    "df = (df[(df[\"duration_mins\"] != '?') & (df[\"elapsed_mins\"] != '?') & (df[\"last_meal\"] != '?')]).copy()\n",
    "\n",
    "#could use df['duration_mins'] = df['duration_mins'].astype('int64')\n",
    "\n",
    "# Reset the index\n",
    "df.reset_index(drop=True, inplace=True)\n",
    "\n",
    "# Check the invalid data was filtered out\n",
    "df.shape"
   ]
  },
  {
   "cell_type": "code",
   "execution_count": 160,
   "id": "48072743-c464-4326-bdd3-1f94480bb474",
   "metadata": {},
   "outputs": [],
   "source": [
    "# Split off the test set: 20% of the dataset. Note the stratification\n",
    "dev_df, test_df = train_test_split(df, train_size=0.8, stratify=df[\"over_limit\"], random_state=2)"
   ]
  },
  {
   "cell_type": "code",
   "execution_count": 161,
   "id": "bbd22cc8-dda9-46c5-886b-d5df57aa9f1e",
   "metadata": {},
   "outputs": [
    {
     "name": "stdout",
     "output_type": "stream",
     "text": [
      "<class 'pandas.core.frame.DataFrame'>\n",
      "RangeIndex: 73 entries, 0 to 72\n",
      "Data columns (total 9 columns):\n",
      " #   Column         Non-Null Count  Dtype  \n",
      "---  ------         --------------  -----  \n",
      " 0   age_yrs        73 non-null     int64  \n",
      " 1   height_cm      73 non-null     int64  \n",
      " 2   weight_kg      73 non-null     int64  \n",
      " 3   duration_mins  73 non-null     object \n",
      " 4   elapsed_mins   73 non-null     object \n",
      " 5   sex            73 non-null     object \n",
      " 6   last_meal      62 non-null     object \n",
      " 7   units          73 non-null     float64\n",
      " 8   over_limit     73 non-null     object \n",
      "dtypes: float64(1), int64(3), object(5)\n",
      "memory usage: 5.3+ KB\n"
     ]
    }
   ],
   "source": [
    "df.info()"
   ]
  },
  {
   "cell_type": "code",
   "execution_count": 162,
   "id": "198090f6-aa35-4bb4-84df-b382d7bc82a8",
   "metadata": {},
   "outputs": [
    {
     "data": {
      "text/html": [
       "<div>\n",
       "<style scoped>\n",
       "    .dataframe tbody tr th:only-of-type {\n",
       "        vertical-align: middle;\n",
       "    }\n",
       "\n",
       "    .dataframe tbody tr th {\n",
       "        vertical-align: top;\n",
       "    }\n",
       "\n",
       "    .dataframe thead th {\n",
       "        text-align: right;\n",
       "    }\n",
       "</style>\n",
       "<table border=\"1\" class=\"dataframe\">\n",
       "  <thead>\n",
       "    <tr style=\"text-align: right;\">\n",
       "      <th></th>\n",
       "      <th>age_yrs</th>\n",
       "      <th>height_cm</th>\n",
       "      <th>weight_kg</th>\n",
       "      <th>duration_mins</th>\n",
       "      <th>elapsed_mins</th>\n",
       "      <th>sex</th>\n",
       "      <th>last_meal</th>\n",
       "      <th>units</th>\n",
       "      <th>over_limit</th>\n",
       "    </tr>\n",
       "  </thead>\n",
       "  <tbody>\n",
       "    <tr>\n",
       "      <th>0</th>\n",
       "      <td>26</td>\n",
       "      <td>177</td>\n",
       "      <td>76</td>\n",
       "      <td>60</td>\n",
       "      <td>10</td>\n",
       "      <td>Male</td>\n",
       "      <td>Full</td>\n",
       "      <td>2.9</td>\n",
       "      <td>No</td>\n",
       "    </tr>\n",
       "    <tr>\n",
       "      <th>1</th>\n",
       "      <td>24</td>\n",
       "      <td>160</td>\n",
       "      <td>60</td>\n",
       "      <td>60</td>\n",
       "      <td>10</td>\n",
       "      <td>Female</td>\n",
       "      <td>Full</td>\n",
       "      <td>2.6</td>\n",
       "      <td>No</td>\n",
       "    </tr>\n",
       "    <tr>\n",
       "      <th>2</th>\n",
       "      <td>29</td>\n",
       "      <td>160</td>\n",
       "      <td>63</td>\n",
       "      <td>90</td>\n",
       "      <td>10</td>\n",
       "      <td>Female</td>\n",
       "      <td>Full</td>\n",
       "      <td>1.2</td>\n",
       "      <td>No</td>\n",
       "    </tr>\n",
       "    <tr>\n",
       "      <th>3</th>\n",
       "      <td>23</td>\n",
       "      <td>182</td>\n",
       "      <td>63</td>\n",
       "      <td>120</td>\n",
       "      <td>10</td>\n",
       "      <td>Male</td>\n",
       "      <td>Full</td>\n",
       "      <td>5.2</td>\n",
       "      <td>No</td>\n",
       "    </tr>\n",
       "    <tr>\n",
       "      <th>4</th>\n",
       "      <td>19</td>\n",
       "      <td>165</td>\n",
       "      <td>51</td>\n",
       "      <td>120</td>\n",
       "      <td>10</td>\n",
       "      <td>Female</td>\n",
       "      <td>Lunch</td>\n",
       "      <td>5.2</td>\n",
       "      <td>Yes</td>\n",
       "    </tr>\n",
       "  </tbody>\n",
       "</table>\n",
       "</div>"
      ],
      "text/plain": [
       "   age_yrs  height_cm  weight_kg duration_mins elapsed_mins     sex last_meal  \\\n",
       "0       26        177         76            60           10    Male      Full   \n",
       "1       24        160         60            60           10  Female      Full   \n",
       "2       29        160         63            90           10  Female      Full   \n",
       "3       23        182         63           120           10    Male      Full   \n",
       "4       19        165         51           120           10  Female     Lunch   \n",
       "\n",
       "   units over_limit  \n",
       "0    2.9         No  \n",
       "1    2.6         No  \n",
       "2    1.2         No  \n",
       "3    5.2         No  \n",
       "4    5.2        Yes  "
      ]
     },
     "execution_count": 162,
     "metadata": {},
     "output_type": "execute_result"
    }
   ],
   "source": [
    "df.head()"
   ]
  },
  {
   "cell_type": "code",
   "execution_count": 163,
   "id": "807f521f-0e4f-4ff9-9432-15778b55b49a",
   "metadata": {},
   "outputs": [
    {
     "data": {
      "text/plain": [
       "array(['60', '90', '120', '150', '240', '30', '270', '180', '330', '435',\n",
       "       '325', '300', '360', '315', '5'], dtype=object)"
      ]
     },
     "execution_count": 163,
     "metadata": {},
     "output_type": "execute_result"
    }
   ],
   "source": [
    "df[\"duration_mins\"].unique()"
   ]
  },
  {
   "cell_type": "code",
   "execution_count": 164,
   "id": "e8a3e6d8-e287-4e88-82e9-5886a677899f",
   "metadata": {},
   "outputs": [],
   "source": [
    "# Create the preprocessor\n",
    "preprocessor = ColumnTransformer([\n",
    "        (\"scaler\", StandardScaler(), \n",
    "                  numeric_features),\n",
    "        (\"nom\", Pipeline([(\"imputer\", SimpleImputer(missing_values=np.nan, strategy=\"most_frequent\")),\n",
    "                         (\"binarizer\", OneHotEncoder(handle_unknown=\"ignore\"))]), \n",
    "                nominal_features)],\n",
    "        remainder=\"passthrough\")"
   ]
  },
  {
   "cell_type": "code",
   "execution_count": 165,
   "id": "7bfb3b4a-2fc1-4e43-a254-1fa3f2614cd6",
   "metadata": {},
   "outputs": [],
   "source": [
    "# Extract the features but leave as a DataFrame\n",
    "dev_X = dev_df[features]\n",
    "test_X = test_df[features]\n",
    "\n",
    "# Target values, encoded and converted to a 1D numpy array\n",
    "label_encoder = LabelEncoder()\n",
    "label_encoder.fit(df[\"over_limit\"])\n",
    "dev_y = label_encoder.transform(dev_df[\"over_limit\"])\n",
    "test_y = label_encoder.transform(test_df[\"over_limit\"])"
   ]
  },
  {
   "cell_type": "code",
   "execution_count": 166,
   "id": "43834c3a-27c8-4975-8f8d-78a5e06ecd14",
   "metadata": {},
   "outputs": [
    {
     "data": {
      "text/plain": [
       "0.6"
      ]
     },
     "execution_count": 166,
     "metadata": {},
     "output_type": "execute_result"
    }
   ],
   "source": [
    "# Let's see how a majority-class classifier performs.\n",
    "# This is our baseline. We need to do better than this!\n",
    "\n",
    "maj = DummyClassifier()\n",
    "maj.fit(dev_X, dev_y)\n",
    "accuracy_score(test_y, maj.predict(test_X))"
   ]
  },
  {
   "cell_type": "code",
   "execution_count": 167,
   "id": "18f33aa0-3056-4806-91ca-10b79a3e7835",
   "metadata": {},
   "outputs": [
    {
     "data": {
      "text/plain": [
       "({'predictor__n_neighbors': 10}, 0.8300000000000001)"
      ]
     },
     "execution_count": 167,
     "metadata": {},
     "output_type": "execute_result"
    }
   ],
   "source": [
    "# Create a pipeline that combines the preprocessor with kNN\n",
    "knn = Pipeline([\n",
    "    (\"preprocessor\", preprocessor),\n",
    "    (\"predictor\", KNeighborsClassifier())])\n",
    "\n",
    "# Create a dictionary of hyperparameters for kNN\n",
    "knn_param_grid = {\"predictor__n_neighbors\": [1, 2, 3, 4, 5, 6, 7, 8, 9, 10]}\n",
    "\n",
    "# Create the grid search object which will find the best hyperparameter values based on validation error\n",
    "knn_gs = GridSearchCV(knn, knn_param_grid, scoring=\"accuracy\", cv=10, refit=True)\n",
    "\n",
    "# Run grid search by calling fit. It will also re-train on train+validation using the best parameters.\n",
    "knn_gs.fit(dev_X, dev_y)\n",
    "\n",
    "# Let's see how well we did\n",
    "knn_gs.best_params_, knn_gs.best_score_"
   ]
  },
  {
   "cell_type": "code",
   "execution_count": 168,
   "id": "ca6f2d6a-2c22-444a-ad91-9152b2ff8621",
   "metadata": {},
   "outputs": [
    {
     "data": {
      "text/plain": [
       "0.7633333333333334"
      ]
     },
     "execution_count": 168,
     "metadata": {},
     "output_type": "execute_result"
    }
   ],
   "source": [
    "# Create a pipeline that combines the preprocessor with logistic regression\n",
    "logistic = Pipeline([\n",
    "    (\"preprocessor\", preprocessor),\n",
    "    (\"predictor\", LogisticRegression())])\n",
    "\n",
    "# We should do a grid search to set hyperparameter C. But, for brevity, we won't!\n",
    "\n",
    "# Create the grid search object which will find the best hyperparameter values based on validation error\n",
    "np.mean(cross_val_score(logistic, dev_X, dev_y, scoring=\"accuracy\", cv=10))"
   ]
  },
  {
   "cell_type": "code",
   "execution_count": 169,
   "id": "4fc1eba3-da66-4f7f-8844-9d27b5f226e0",
   "metadata": {},
   "outputs": [
    {
     "name": "stdout",
     "output_type": "stream",
     "text": [
      "Training accuracy:  0.835232220609579\n",
      "Validation accuracy:  0.8300000000000001\n"
     ]
    }
   ],
   "source": [
    "knn.set_params(**knn_gs.best_params_) \n",
    "scores = cross_validate(knn, dev_X, dev_y, cv=10, \n",
    "                        scoring=\"accuracy\", return_train_score=True)\n",
    "print(\"Training accuracy: \", np.mean(scores[\"train_score\"]))\n",
    "print(\"Validation accuracy: \", np.mean(scores[\"test_score\"]))"
   ]
  },
  {
   "cell_type": "code",
   "execution_count": null,
   "id": "b1156bf7-d972-46d6-bf76-d3cc289a6363",
   "metadata": {},
   "outputs": [],
   "source": []
  },
  {
   "cell_type": "code",
   "execution_count": 170,
   "id": "6d074388-272f-4797-9370-e57effeadb70",
   "metadata": {},
   "outputs": [
    {
     "data": {
      "text/plain": [
       "0.9333333333333333"
      ]
     },
     "execution_count": 170,
     "metadata": {},
     "output_type": "execute_result"
    }
   ],
   "source": [
    "accuracy_score(test_y, knn_gs.predict(test_X))"
   ]
  },
  {
   "cell_type": "code",
   "execution_count": null,
   "id": "2964690b-3f2d-4712-bfc1-9d646023bf9c",
   "metadata": {},
   "outputs": [],
   "source": []
  }
 ],
 "metadata": {
  "kernelspec": {
   "display_name": "Python 3 (ipykernel)",
   "language": "python",
   "name": "python3"
  },
  "language_info": {
   "codemirror_mode": {
    "name": "ipython",
    "version": 3
   },
   "file_extension": ".py",
   "mimetype": "text/x-python",
   "name": "python",
   "nbconvert_exporter": "python",
   "pygments_lexer": "ipython3",
   "version": "3.9.6"
  }
 },
 "nbformat": 4,
 "nbformat_minor": 5
}
