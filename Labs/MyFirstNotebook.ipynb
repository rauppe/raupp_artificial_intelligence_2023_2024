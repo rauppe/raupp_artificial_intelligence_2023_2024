{
 "cells": [
  {
   "cell_type": "code",
   "execution_count": 1,
   "id": "506d0279-cb31-451b-8323-3a2b97148a45",
   "metadata": {},
   "outputs": [],
   "source": [
    "%load_ext autoreload\n",
    "%autoreload 2\n",
    "%matplotlib inline\n",
    "#always include these"
   ]
  },
  {
   "cell_type": "code",
   "execution_count": 2,
   "id": "bc6bb612-4588-4423-b2b0-9e1d94b11053",
   "metadata": {},
   "outputs": [],
   "source": [
    "import pandas as pd\n",
    "import numpy as np\n",
    "import matplotlib.pyplot as plt\n",
    "#always include these"
   ]
  },
  {
   "cell_type": "code",
   "execution_count": 3,
   "id": "9319d318-da4d-4574-8779-192151e9e4d8",
   "metadata": {},
   "outputs": [],
   "source": [
    "from math import sqrt"
   ]
  },
  {
   "cell_type": "code",
   "execution_count": 4,
   "id": "d627594b-d591-4808-be44-10ca63608b3d",
   "metadata": {},
   "outputs": [
    {
     "name": "stdout",
     "output_type": "stream",
     "text": [
      "shift + enter\n"
     ]
    }
   ],
   "source": [
    "print (\"shift + enter\")"
   ]
  },
  {
   "cell_type": "code",
   "execution_count": 5,
   "id": "c9962adb-657c-461d-a58a-96c50f8d5a62",
   "metadata": {},
   "outputs": [
    {
     "data": {
      "text/plain": [
       "7"
      ]
     },
     "execution_count": 5,
     "metadata": {},
     "output_type": "execute_result"
    }
   ],
   "source": [
    "2 + 5"
   ]
  },
  {
   "cell_type": "code",
   "execution_count": 6,
   "id": "7a5a7719-2efb-4e9d-9c3a-b64b29817b14",
   "metadata": {},
   "outputs": [
    {
     "data": {
      "text/plain": [
       "4"
      ]
     },
     "execution_count": 6,
     "metadata": {},
     "output_type": "execute_result"
    }
   ],
   "source": [
    "x = 1\n",
    "y = 3 + x\n",
    "y"
   ]
  },
  {
   "cell_type": "code",
   "execution_count": 7,
   "id": "ccb43465-3ef1-4dd3-b78d-429f861f6c08",
   "metadata": {},
   "outputs": [
    {
     "ename": "KeyboardInterrupt",
     "evalue": "",
     "output_type": "error",
     "traceback": [
      "\u001b[0;31m---------------------------------------------------------------------------\u001b[0m",
      "\u001b[0;31mKeyboardInterrupt\u001b[0m                         Traceback (most recent call last)",
      "Cell \u001b[0;32mIn[7], line 2\u001b[0m\n\u001b[1;32m      1\u001b[0m \u001b[38;5;28;01mwhile\u001b[39;00m \u001b[38;5;28;01mTrue\u001b[39;00m:\n\u001b[0;32m----> 2\u001b[0m     x \u001b[38;5;241m=\u001b[39m \u001b[38;5;241m1\u001b[39m\n",
      "\u001b[0;31mKeyboardInterrupt\u001b[0m: "
     ]
    }
   ],
   "source": [
    "while True:\n",
    "    x = 1"
   ]
  },
  {
   "cell_type": "markdown",
   "id": "308173c0-37bc-480b-9058-14c3191faae9",
   "metadata": {},
   "source": [
    "Typing text because this is a markdown cell"
   ]
  },
  {
   "cell_type": "markdown",
   "id": "22cb29d9-4bb2-40dc-9f41-13763ede2ae4",
   "metadata": {},
   "source": [
    "<h1> This is a heading</h1>\n",
    "<p> and paragraph in html, markup! </p>"
   ]
  },
  {
   "cell_type": "markdown",
   "id": "a724720d-5f09-4883-98c3-38d2ccf9364d",
   "metadata": {},
   "source": [
    "# Heading markdown"
   ]
  },
  {
   "cell_type": "code",
   "execution_count": 8,
   "id": "2e97eb4e-03a6-41ab-9f35-205d8d30617c",
   "metadata": {},
   "outputs": [],
   "source": [
    "u = np.array([2, -7, 1])\n",
    "v = np.array([-3, 0, 4])\n",
    "\n",
    "A = np.array([[1, 2, 0], [3, -1, 4]])\n",
    "B = np.array([[2, -1], [1, 0], [-3, 4]])"
   ]
  },
  {
   "cell_type": "code",
   "execution_count": 9,
   "id": "c2c1daf4-a6b9-4d9f-9e55-9bc3090c344f",
   "metadata": {},
   "outputs": [
    {
     "data": {
      "text/plain": [
       "array([-1, -7,  5])"
      ]
     },
     "execution_count": 9,
     "metadata": {},
     "output_type": "execute_result"
    }
   ],
   "source": [
    "u + v #A"
   ]
  },
  {
   "cell_type": "code",
   "execution_count": 10,
   "id": "b0ffea13-de33-4fa3-9bdf-4e02786b0573",
   "metadata": {},
   "outputs": [
    {
     "data": {
      "text/plain": [
       "array([-6, 21, -3])"
      ]
     },
     "execution_count": 10,
     "metadata": {},
     "output_type": "execute_result"
    }
   ],
   "source": [
    "-3 * u #B"
   ]
  },
  {
   "cell_type": "code",
   "execution_count": 11,
   "id": "1ec8a1c5-e791-41fb-b79e-2378702fc006",
   "metadata": {},
   "outputs": [
    {
     "data": {
      "text/plain": [
       "-2"
      ]
     },
     "execution_count": 11,
     "metadata": {},
     "output_type": "execute_result"
    }
   ],
   "source": [
    "np.dot(u, v) #C\n",
    "# can also do u.T.dot(v)"
   ]
  },
  {
   "cell_type": "code",
   "execution_count": 12,
   "id": "9847e0f3-86c2-4e76-88cb-a81fb1ecf294",
   "metadata": {},
   "outputs": [
    {
     "data": {
      "text/plain": [
       "54"
      ]
     },
     "execution_count": 12,
     "metadata": {},
     "output_type": "execute_result"
    }
   ],
   "source": [
    "u.dot(u) #D"
   ]
  },
  {
   "cell_type": "code",
   "execution_count": 13,
   "id": "ede86b3e-b07e-4afc-9518-67845db8e7bb",
   "metadata": {},
   "outputs": [
    {
     "data": {
      "text/plain": [
       "7.3484692283495345"
      ]
     },
     "execution_count": 13,
     "metadata": {},
     "output_type": "execute_result"
    }
   ],
   "source": [
    "np.sqrt(u.dot(u)) #E"
   ]
  },
  {
   "cell_type": "code",
   "execution_count": 14,
   "id": "325715ba-bde5-4653-af86-6b4f870f07d5",
   "metadata": {},
   "outputs": [
    {
     "data": {
      "text/plain": [
       "array([-6,  0,  4])"
      ]
     },
     "execution_count": 14,
     "metadata": {},
     "output_type": "execute_result"
    }
   ],
   "source": [
    "u * v #F"
   ]
  },
  {
   "cell_type": "code",
   "execution_count": 15,
   "id": "7a157e2e-7693-482a-ba36-0d6982571544",
   "metadata": {},
   "outputs": [
    {
     "data": {
      "text/plain": [
       "array([[ 2,  4,  0],\n",
       "       [ 6, -2,  8]])"
      ]
     },
     "execution_count": 15,
     "metadata": {},
     "output_type": "execute_result"
    }
   ],
   "source": [
    "A + A #G"
   ]
  },
  {
   "cell_type": "code",
   "execution_count": 16,
   "id": "758cf519-5416-4540-b7d2-bd8579a26049",
   "metadata": {
    "scrolled": true
   },
   "outputs": [
    {
     "data": {
      "text/plain": [
       "array([[ 3, -5,  1],\n",
       "       [ 5, -8,  5]])"
      ]
     },
     "execution_count": 16,
     "metadata": {},
     "output_type": "execute_result"
    }
   ],
   "source": [
    "A + u #H error message should happen"
   ]
  },
  {
   "cell_type": "code",
   "execution_count": 17,
   "id": "30f30715-b17b-4d52-b9ad-ec64dac5a9e5",
   "metadata": {},
   "outputs": [
    {
     "data": {
      "text/plain": [
       "array([[ 10,  20,   0],\n",
       "       [ 30, -10,  40]])"
      ]
     },
     "execution_count": 17,
     "metadata": {},
     "output_type": "execute_result"
    }
   ],
   "source": [
    "10 * A #I"
   ]
  },
  {
   "cell_type": "code",
   "execution_count": 18,
   "id": "1a5af027-1e7b-4f3d-8471-7e5dc7301500",
   "metadata": {},
   "outputs": [
    {
     "data": {
      "text/plain": [
       "array([-3,  7])"
      ]
     },
     "execution_count": 18,
     "metadata": {},
     "output_type": "execute_result"
    }
   ],
   "source": [
    "np.dot(A, v) #J"
   ]
  },
  {
   "cell_type": "code",
   "execution_count": 19,
   "id": "2d7e3455-3b61-4c1f-87e3-7777933adaff",
   "metadata": {},
   "outputs": [
    {
     "data": {
      "text/plain": [
       "array([[ 4, -1],\n",
       "       [-7, 13]])"
      ]
     },
     "execution_count": 19,
     "metadata": {},
     "output_type": "execute_result"
    }
   ],
   "source": [
    "np.dot(A, B) #K"
   ]
  },
  {
   "cell_type": "code",
   "execution_count": 20,
   "id": "2d152242-f8e8-4250-a685-71d288bf7a9e",
   "metadata": {},
   "outputs": [
    {
     "data": {
      "text/plain": [
       "array([[ 1,  3],\n",
       "       [ 2, -1],\n",
       "       [ 0,  4]])"
      ]
     },
     "execution_count": 20,
     "metadata": {},
     "output_type": "execute_result"
    }
   ],
   "source": [
    "A.transpose() #L"
   ]
  },
  {
   "cell_type": "code",
   "execution_count": 21,
   "id": "cf690e75-12ac-4d23-b18e-ba210e7db110",
   "metadata": {},
   "outputs": [
    {
     "data": {
      "text/plain": [
       "array([[ 5,  1],\n",
       "       [ 1, 26]])"
      ]
     },
     "execution_count": 21,
     "metadata": {},
     "output_type": "execute_result"
    }
   ],
   "source": [
    "A.dot(A.transpose()) #M"
   ]
  },
  {
   "cell_type": "code",
   "execution_count": 22,
   "id": "652532de-fb90-4dad-abec-1e63f464569d",
   "metadata": {},
   "outputs": [
    {
     "data": {
      "text/plain": [
       "array([[10, -1, 12],\n",
       "       [-1,  5, -4],\n",
       "       [12, -4, 16]])"
      ]
     },
     "execution_count": 22,
     "metadata": {},
     "output_type": "execute_result"
    }
   ],
   "source": [
    "np.dot(A.transpose(), A) #N"
   ]
  },
  {
   "cell_type": "code",
   "execution_count": 23,
   "id": "eab0f036-6515-4dd1-966f-3930be239db5",
   "metadata": {},
   "outputs": [
    {
     "data": {
      "text/plain": [
       "-7"
      ]
     },
     "execution_count": 23,
     "metadata": {},
     "output_type": "execute_result"
    }
   ],
   "source": [
    "np.min(u) #O"
   ]
  },
  {
   "cell_type": "code",
   "execution_count": 24,
   "id": "18db2792-1180-4197-9d10-a918cc55086e",
   "metadata": {},
   "outputs": [
    {
     "data": {
      "text/plain": [
       "1"
      ]
     },
     "execution_count": 24,
     "metadata": {},
     "output_type": "execute_result"
    }
   ],
   "source": [
    "np.argmin(u) #P"
   ]
  },
  {
   "cell_type": "code",
   "execution_count": 25,
   "id": "5475d3c6-235d-4437-9322-a6b7226de0b0",
   "metadata": {},
   "outputs": [
    {
     "data": {
      "text/plain": [
       "-1.3333333333333333"
      ]
     },
     "execution_count": 25,
     "metadata": {},
     "output_type": "execute_result"
    }
   ],
   "source": [
    "np.mean(u) #Q"
   ]
  },
  {
   "cell_type": "code",
   "execution_count": 26,
   "id": "f2083093-ab39-4e50-afbe-51263b7f1c3e",
   "metadata": {},
   "outputs": [
    {
     "data": {
      "text/plain": [
       "array([ 2, -5, -4])"
      ]
     },
     "execution_count": 26,
     "metadata": {},
     "output_type": "execute_result"
    }
   ],
   "source": [
    "np.cumsum(u)"
   ]
  },
  {
   "cell_type": "code",
   "execution_count": 27,
   "id": "ca058ff5-f4ff-4c93-bac8-91f063389fdd",
   "metadata": {},
   "outputs": [
    {
     "data": {
      "text/plain": [
       "array([1, 3, 3, 6, 5, 9])"
      ]
     },
     "execution_count": 27,
     "metadata": {},
     "output_type": "execute_result"
    }
   ],
   "source": [
    "np.cumsum(A)"
   ]
  },
  {
   "cell_type": "code",
   "execution_count": 28,
   "id": "5d1d40c4-dfeb-4c6d-8d5a-31f50505f099",
   "metadata": {},
   "outputs": [],
   "source": [
    "#def cumsum1(A):\n",
    "    #if null return A\n",
    "    #temp = A.pop(0)\n",
    "    #return cumsum1(A) + temp\n",
    "\n",
    "def cumsum1(A):\n",
    "    total = 0\n",
    "    newList = []\n",
    "    for x in A:\n",
    "        total += x\n",
    "        newList.append(total)\n",
    "    return newList"
   ]
  },
  {
   "cell_type": "code",
   "execution_count": 29,
   "id": "52a60c9d-67af-4638-afce-97ffdbf28a47",
   "metadata": {},
   "outputs": [
    {
     "name": "stdout",
     "output_type": "stream",
     "text": [
      "42.7 µs ± 262 ns per loop (mean ± std. dev. of 7 runs, 10,000 loops each)\n",
      "27.8 µs ± 164 ns per loop (mean ± std. dev. of 7 runs, 10,000 loops each)\n"
     ]
    }
   ],
   "source": [
    "x = list(range(1, 1000))\n",
    "\n",
    "cumsum1(x)\n",
    "\n",
    "%timeit cumsum1(x)\n",
    "%timeit np.cumsum(x)"
   ]
  },
  {
   "cell_type": "code",
   "execution_count": null,
   "id": "7c2f348a-1a01-4ff2-8012-e52ae279dac0",
   "metadata": {},
   "outputs": [],
   "source": []
  }
 ],
 "metadata": {
  "kernelspec": {
   "display_name": "Python 3 (ipykernel)",
   "language": "python",
   "name": "python3"
  },
  "language_info": {
   "codemirror_mode": {
    "name": "ipython",
    "version": 3
   },
   "file_extension": ".py",
   "mimetype": "text/x-python",
   "name": "python",
   "nbconvert_exporter": "python",
   "pygments_lexer": "ipython3",
   "version": "3.9.6"
  }
 },
 "nbformat": 4,
 "nbformat_minor": 5
}
