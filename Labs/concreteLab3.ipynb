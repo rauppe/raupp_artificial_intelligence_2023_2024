{
 "cells": [
  {
   "cell_type": "markdown",
   "id": "0df0f0d4-5a30-49e2-b36a-cc26e7457838",
   "metadata": {},
   "source": [
    "<h1> Concrete Strength, Model Selection, and Error Estimation</h1>"
   ]
  },
  {
   "cell_type": "code",
   "execution_count": 1,
   "id": "ebd17d80-244e-4b80-9899-0a5568a15e3b",
   "metadata": {},
   "outputs": [],
   "source": [
    "%load_ext autoreload\n",
    "%autoreload 2\n",
    "%matplotlib inline"
   ]
  },
  {
   "cell_type": "code",
   "execution_count": 3,
   "id": "bbd7fefc-fc97-4d29-a9af-7a8bb6d14d0b",
   "metadata": {},
   "outputs": [],
   "source": [
    "import pandas as pd\n",
    "import numpy as np\n",
    "\n",
    "from sklearn.compose import ColumnTransformer\n",
    "from sklearn.pipeline import Pipeline\n",
    "from sklearn.preprocessing import StandardScaler\n",
    "\n",
    "from sklearn.linear_model import LinearRegression\n",
    "from sklearn.neighbors import KNeighborsRegressor\n",
    "\n",
    "from sklearn.metrics import mean_absolute_error\n",
    "\n",
    "from sklearn.model_selection import train_test_split\n",
    "from sklearn.model_selection import ShuffleSplit\n",
    "from sklearn.model_selection import cross_val_score\n",
    "from sklearn.model_selection import GridSearchCV\n",
    "from sklearn.model_selection import RandomizedSearchCV\n",
    "\n",
    "from joblib import dump"
   ]
  },
  {
   "cell_type": "code",
   "execution_count": 13,
   "id": "86c228db-42ea-471d-a673-67b0827d3977",
   "metadata": {},
   "outputs": [],
   "source": [
    "#read CSV file for concrete\n",
    "df = pd.read_csv(\"./ai1/datasets/dataset_concrete.csv\")\n",
    "\n",
    "#shuffle dataset and reorder it\n",
    "df = df.sample(frac = 1, random_state = 5)\n",
    "df.reset_index(drop = True, inplace = True)\n",
    "\n",
    "#the qualities needed to predict strength\n",
    "qualities = [\"cement\", \"slag\", \"fly_ash\", \"water\", \"superplasticizer\", \"coarse_aggregate\", \"fine_aggregate\", \"age\"]"
   ]
  },
  {
   "cell_type": "code",
   "execution_count": 39,
   "id": "9afc6641-706d-4520-8a3c-1e40819e9a0f",
   "metadata": {},
   "outputs": [],
   "source": [
    "#split data into development set and the test set\n",
    "dev_df, test_df = train_test_split(df, train_size = 0.8, random_state = 4)"
   ]
  },
  {
   "cell_type": "code",
   "execution_count": 15,
   "id": "ef86b0ab-0448-4f4d-9d5a-c94e769da66a",
   "metadata": {},
   "outputs": [],
   "source": [
    "#extract qualities\n",
    "dev_X = dev_df[qualities]\n",
    "test_X = test_df[qualities]\n",
    "\n",
    "dev_Y = dev_df[\"strength\"].values\n",
    "test_Y = test_df[\"strength\"].values"
   ]
  },
  {
   "cell_type": "code",
   "execution_count": 26,
   "id": "da7dc679-4534-42e5-9c94-665437ee584b",
   "metadata": {},
   "outputs": [
    {
     "data": {
      "text/html": [
       "<style>#sk-container-id-6 {color: black;}#sk-container-id-6 pre{padding: 0;}#sk-container-id-6 div.sk-toggleable {background-color: white;}#sk-container-id-6 label.sk-toggleable__label {cursor: pointer;display: block;width: 100%;margin-bottom: 0;padding: 0.3em;box-sizing: border-box;text-align: center;}#sk-container-id-6 label.sk-toggleable__label-arrow:before {content: \"▸\";float: left;margin-right: 0.25em;color: #696969;}#sk-container-id-6 label.sk-toggleable__label-arrow:hover:before {color: black;}#sk-container-id-6 div.sk-estimator:hover label.sk-toggleable__label-arrow:before {color: black;}#sk-container-id-6 div.sk-toggleable__content {max-height: 0;max-width: 0;overflow: hidden;text-align: left;background-color: #f0f8ff;}#sk-container-id-6 div.sk-toggleable__content pre {margin: 0.2em;color: black;border-radius: 0.25em;background-color: #f0f8ff;}#sk-container-id-6 input.sk-toggleable__control:checked~div.sk-toggleable__content {max-height: 200px;max-width: 100%;overflow: auto;}#sk-container-id-6 input.sk-toggleable__control:checked~label.sk-toggleable__label-arrow:before {content: \"▾\";}#sk-container-id-6 div.sk-estimator input.sk-toggleable__control:checked~label.sk-toggleable__label {background-color: #d4ebff;}#sk-container-id-6 div.sk-label input.sk-toggleable__control:checked~label.sk-toggleable__label {background-color: #d4ebff;}#sk-container-id-6 input.sk-hidden--visually {border: 0;clip: rect(1px 1px 1px 1px);clip: rect(1px, 1px, 1px, 1px);height: 1px;margin: -1px;overflow: hidden;padding: 0;position: absolute;width: 1px;}#sk-container-id-6 div.sk-estimator {font-family: monospace;background-color: #f0f8ff;border: 1px dotted black;border-radius: 0.25em;box-sizing: border-box;margin-bottom: 0.5em;}#sk-container-id-6 div.sk-estimator:hover {background-color: #d4ebff;}#sk-container-id-6 div.sk-parallel-item::after {content: \"\";width: 100%;border-bottom: 1px solid gray;flex-grow: 1;}#sk-container-id-6 div.sk-label:hover label.sk-toggleable__label {background-color: #d4ebff;}#sk-container-id-6 div.sk-serial::before {content: \"\";position: absolute;border-left: 1px solid gray;box-sizing: border-box;top: 0;bottom: 0;left: 50%;z-index: 0;}#sk-container-id-6 div.sk-serial {display: flex;flex-direction: column;align-items: center;background-color: white;padding-right: 0.2em;padding-left: 0.2em;position: relative;}#sk-container-id-6 div.sk-item {position: relative;z-index: 1;}#sk-container-id-6 div.sk-parallel {display: flex;align-items: stretch;justify-content: center;background-color: white;position: relative;}#sk-container-id-6 div.sk-item::before, #sk-container-id-6 div.sk-parallel-item::before {content: \"\";position: absolute;border-left: 1px solid gray;box-sizing: border-box;top: 0;bottom: 0;left: 50%;z-index: -1;}#sk-container-id-6 div.sk-parallel-item {display: flex;flex-direction: column;z-index: 1;position: relative;background-color: white;}#sk-container-id-6 div.sk-parallel-item:first-child::after {align-self: flex-end;width: 50%;}#sk-container-id-6 div.sk-parallel-item:last-child::after {align-self: flex-start;width: 50%;}#sk-container-id-6 div.sk-parallel-item:only-child::after {width: 0;}#sk-container-id-6 div.sk-dashed-wrapped {border: 1px dashed gray;margin: 0 0.4em 0.5em 0.4em;box-sizing: border-box;padding-bottom: 0.4em;background-color: white;}#sk-container-id-6 div.sk-label label {font-family: monospace;font-weight: bold;display: inline-block;line-height: 1.2em;}#sk-container-id-6 div.sk-label-container {text-align: center;}#sk-container-id-6 div.sk-container {/* jupyter's `normalize.less` sets `[hidden] { display: none; }` but bootstrap.min.css set `[hidden] { display: none !important; }` so we also need the `!important` here to be able to override the default hidden behavior on the sphinx rendered scikit-learn.org. See: https://github.com/scikit-learn/scikit-learn/issues/21755 */display: inline-block !important;position: relative;}#sk-container-id-6 div.sk-text-repr-fallback {display: none;}</style><div id=\"sk-container-id-6\" class=\"sk-top-container\"><div class=\"sk-text-repr-fallback\"><pre>GridSearchCV(estimator=Pipeline(steps=[(&#x27;preprocessor&#x27;,\n",
       "                                        ColumnTransformer(remainder=&#x27;passthrough&#x27;,\n",
       "                                                          transformers=[(&#x27;scaler&#x27;,\n",
       "                                                                         StandardScaler(),\n",
       "                                                                         [&#x27;cement&#x27;,\n",
       "                                                                          &#x27;slag&#x27;,\n",
       "                                                                          &#x27;fly_ash&#x27;,\n",
       "                                                                          &#x27;water&#x27;,\n",
       "                                                                          &#x27;superplasticizer&#x27;,\n",
       "                                                                          &#x27;coarse_aggregate&#x27;,\n",
       "                                                                          &#x27;fine_aggregate&#x27;,\n",
       "                                                                          &#x27;age&#x27;])])),\n",
       "                                       (&#x27;predictor&#x27;, KNeighborsRegressor())]),\n",
       "             param_grid={&#x27;predictor__n_neighbors&#x27;: [1, 2, 3, 4, 5, 6, 7, 8, 9,\n",
       "                                                    10]},\n",
       "             scoring=&#x27;neg_mean_absolute_error&#x27;)</pre><b>In a Jupyter environment, please rerun this cell to show the HTML representation or trust the notebook. <br />On GitHub, the HTML representation is unable to render, please try loading this page with nbviewer.org.</b></div><div class=\"sk-container\" hidden><div class=\"sk-item sk-dashed-wrapped\"><div class=\"sk-label-container\"><div class=\"sk-label sk-toggleable\"><input class=\"sk-toggleable__control sk-hidden--visually\" id=\"sk-estimator-id-41\" type=\"checkbox\" ><label for=\"sk-estimator-id-41\" class=\"sk-toggleable__label sk-toggleable__label-arrow\">GridSearchCV</label><div class=\"sk-toggleable__content\"><pre>GridSearchCV(estimator=Pipeline(steps=[(&#x27;preprocessor&#x27;,\n",
       "                                        ColumnTransformer(remainder=&#x27;passthrough&#x27;,\n",
       "                                                          transformers=[(&#x27;scaler&#x27;,\n",
       "                                                                         StandardScaler(),\n",
       "                                                                         [&#x27;cement&#x27;,\n",
       "                                                                          &#x27;slag&#x27;,\n",
       "                                                                          &#x27;fly_ash&#x27;,\n",
       "                                                                          &#x27;water&#x27;,\n",
       "                                                                          &#x27;superplasticizer&#x27;,\n",
       "                                                                          &#x27;coarse_aggregate&#x27;,\n",
       "                                                                          &#x27;fine_aggregate&#x27;,\n",
       "                                                                          &#x27;age&#x27;])])),\n",
       "                                       (&#x27;predictor&#x27;, KNeighborsRegressor())]),\n",
       "             param_grid={&#x27;predictor__n_neighbors&#x27;: [1, 2, 3, 4, 5, 6, 7, 8, 9,\n",
       "                                                    10]},\n",
       "             scoring=&#x27;neg_mean_absolute_error&#x27;)</pre></div></div></div><div class=\"sk-parallel\"><div class=\"sk-parallel-item\"><div class=\"sk-item\"><div class=\"sk-label-container\"><div class=\"sk-label sk-toggleable\"><input class=\"sk-toggleable__control sk-hidden--visually\" id=\"sk-estimator-id-42\" type=\"checkbox\" ><label for=\"sk-estimator-id-42\" class=\"sk-toggleable__label sk-toggleable__label-arrow\">estimator: Pipeline</label><div class=\"sk-toggleable__content\"><pre>Pipeline(steps=[(&#x27;preprocessor&#x27;,\n",
       "                 ColumnTransformer(remainder=&#x27;passthrough&#x27;,\n",
       "                                   transformers=[(&#x27;scaler&#x27;, StandardScaler(),\n",
       "                                                  [&#x27;cement&#x27;, &#x27;slag&#x27;, &#x27;fly_ash&#x27;,\n",
       "                                                   &#x27;water&#x27;, &#x27;superplasticizer&#x27;,\n",
       "                                                   &#x27;coarse_aggregate&#x27;,\n",
       "                                                   &#x27;fine_aggregate&#x27;,\n",
       "                                                   &#x27;age&#x27;])])),\n",
       "                (&#x27;predictor&#x27;, KNeighborsRegressor())])</pre></div></div></div><div class=\"sk-serial\"><div class=\"sk-item\"><div class=\"sk-serial\"><div class=\"sk-item sk-dashed-wrapped\"><div class=\"sk-label-container\"><div class=\"sk-label sk-toggleable\"><input class=\"sk-toggleable__control sk-hidden--visually\" id=\"sk-estimator-id-43\" type=\"checkbox\" ><label for=\"sk-estimator-id-43\" class=\"sk-toggleable__label sk-toggleable__label-arrow\">preprocessor: ColumnTransformer</label><div class=\"sk-toggleable__content\"><pre>ColumnTransformer(remainder=&#x27;passthrough&#x27;,\n",
       "                  transformers=[(&#x27;scaler&#x27;, StandardScaler(),\n",
       "                                 [&#x27;cement&#x27;, &#x27;slag&#x27;, &#x27;fly_ash&#x27;, &#x27;water&#x27;,\n",
       "                                  &#x27;superplasticizer&#x27;, &#x27;coarse_aggregate&#x27;,\n",
       "                                  &#x27;fine_aggregate&#x27;, &#x27;age&#x27;])])</pre></div></div></div><div class=\"sk-parallel\"><div class=\"sk-parallel-item\"><div class=\"sk-item\"><div class=\"sk-label-container\"><div class=\"sk-label sk-toggleable\"><input class=\"sk-toggleable__control sk-hidden--visually\" id=\"sk-estimator-id-44\" type=\"checkbox\" ><label for=\"sk-estimator-id-44\" class=\"sk-toggleable__label sk-toggleable__label-arrow\">scaler</label><div class=\"sk-toggleable__content\"><pre>[&#x27;cement&#x27;, &#x27;slag&#x27;, &#x27;fly_ash&#x27;, &#x27;water&#x27;, &#x27;superplasticizer&#x27;, &#x27;coarse_aggregate&#x27;, &#x27;fine_aggregate&#x27;, &#x27;age&#x27;]</pre></div></div></div><div class=\"sk-serial\"><div class=\"sk-item\"><div class=\"sk-estimator sk-toggleable\"><input class=\"sk-toggleable__control sk-hidden--visually\" id=\"sk-estimator-id-45\" type=\"checkbox\" ><label for=\"sk-estimator-id-45\" class=\"sk-toggleable__label sk-toggleable__label-arrow\">StandardScaler</label><div class=\"sk-toggleable__content\"><pre>StandardScaler()</pre></div></div></div></div></div></div><div class=\"sk-parallel-item\"><div class=\"sk-item\"><div class=\"sk-label-container\"><div class=\"sk-label sk-toggleable\"><input class=\"sk-toggleable__control sk-hidden--visually\" id=\"sk-estimator-id-46\" type=\"checkbox\" ><label for=\"sk-estimator-id-46\" class=\"sk-toggleable__label sk-toggleable__label-arrow\">remainder</label><div class=\"sk-toggleable__content\"><pre></pre></div></div></div><div class=\"sk-serial\"><div class=\"sk-item\"><div class=\"sk-estimator sk-toggleable\"><input class=\"sk-toggleable__control sk-hidden--visually\" id=\"sk-estimator-id-47\" type=\"checkbox\" ><label for=\"sk-estimator-id-47\" class=\"sk-toggleable__label sk-toggleable__label-arrow\">passthrough</label><div class=\"sk-toggleable__content\"><pre>passthrough</pre></div></div></div></div></div></div></div></div><div class=\"sk-item\"><div class=\"sk-estimator sk-toggleable\"><input class=\"sk-toggleable__control sk-hidden--visually\" id=\"sk-estimator-id-48\" type=\"checkbox\" ><label for=\"sk-estimator-id-48\" class=\"sk-toggleable__label sk-toggleable__label-arrow\">KNeighborsRegressor</label><div class=\"sk-toggleable__content\"><pre>KNeighborsRegressor()</pre></div></div></div></div></div></div></div></div></div></div></div></div>"
      ],
      "text/plain": [
       "GridSearchCV(estimator=Pipeline(steps=[('preprocessor',\n",
       "                                        ColumnTransformer(remainder='passthrough',\n",
       "                                                          transformers=[('scaler',\n",
       "                                                                         StandardScaler(),\n",
       "                                                                         ['cement',\n",
       "                                                                          'slag',\n",
       "                                                                          'fly_ash',\n",
       "                                                                          'water',\n",
       "                                                                          'superplasticizer',\n",
       "                                                                          'coarse_aggregate',\n",
       "                                                                          'fine_aggregate',\n",
       "                                                                          'age'])])),\n",
       "                                       ('predictor', KNeighborsRegressor())]),\n",
       "             param_grid={'predictor__n_neighbors': [1, 2, 3, 4, 5, 6, 7, 8, 9,\n",
       "                                                    10]},\n",
       "             scoring='neg_mean_absolute_error')"
      ]
     },
     "execution_count": 26,
     "metadata": {},
     "output_type": "execute_result"
    }
   ],
   "source": [
    "#split further to get the validation dataset\n",
    "ss = ShuffleSplit(n_splits = 1, train_size = 0.75, random_state = 3)\n",
    "\n",
    "#nmake the preprocessor\n",
    "preprocessor = ColumnTransformer([\n",
    "    (\"scaler\", StandardScaler(), qualities)],\n",
    "    remainder = \"passthrough\")\n",
    "\n",
    "#knn pipeline model\n",
    "knn_model = Pipeline ([\n",
    "    (\"preprocessor\", preprocessor),\n",
    "    (\"predictor\", KNeighborsRegressor())])\n",
    "\n",
    "#grid search method to try multiple hyperparameters\n",
    "knn_grid = {\"predictor__n_neighbors\" : [1, 2, 3, 4, 5, 6, 7, 8, 9, 10]}\n",
    "\n",
    "#create grid search object to find the best hyperparameter\n",
    "grid_search = GridSearchCV(knn_model, knn_grid, scoring = \"neg_mean_absolute_error\")\n",
    "\n",
    "#run it\n",
    "grid_search.fit(dev_X, dev_Y)"
   ]
  },
  {
   "cell_type": "code",
   "execution_count": 27,
   "id": "af88850f-afdf-4ca7-ae6a-a65e75c989a7",
   "metadata": {},
   "outputs": [
    {
     "data": {
      "text/plain": [
       "({'predictor__n_neighbors': 1}, -6.776850258684405)"
      ]
     },
     "execution_count": 27,
     "metadata": {},
     "output_type": "execute_result"
    }
   ],
   "source": [
    "#find the best hyperparam and the score using this param\n",
    "grid_search.best_params_, grid_search.best_score_"
   ]
  },
  {
   "cell_type": "code",
   "execution_count": 40,
   "id": "b8d4ed87-da33-4e24-826c-e71c5132ced8",
   "metadata": {},
   "outputs": [
    {
     "data": {
      "text/plain": [
       "-8.024851773324496"
      ]
     },
     "execution_count": 40,
     "metadata": {},
     "output_type": "execute_result"
    }
   ],
   "source": [
    "#linear model\n",
    "linear_model = Pipeline([\n",
    "    (\"preprocessor\", preprocessor),\n",
    "    (\"predictor\", LinearRegression())])\n",
    "\n",
    "#error estimate for linear, used k fold because its small\n",
    "np.mean(cross_val_score(linear_model, dev_X, dev_Y, scoring=\"neg_mean_absolute_error\", cv=10))"
   ]
  },
  {
   "cell_type": "markdown",
   "id": "a942329c-9d5f-42e1-bdf8-62168dd5d6a5",
   "metadata": {},
   "source": [
    "<p> The knn produced something I would show my boss</p>"
   ]
  },
  {
   "cell_type": "code",
   "execution_count": 36,
   "id": "e4641d4a-b658-4aaf-97a9-2d88d8850166",
   "metadata": {},
   "outputs": [
    {
     "data": {
      "text/plain": [
       "7.40752427184466"
      ]
     },
     "execution_count": 36,
     "metadata": {},
     "output_type": "execute_result"
    }
   ],
   "source": [
    "#test sets!!\n",
    "mean_absolute_error(test_Y, grid_search.predict(test_X))"
   ]
  },
  {
   "cell_type": "code",
   "execution_count": 41,
   "id": "0f342959-ef4a-4961-8ad9-219c53f8362f",
   "metadata": {},
   "outputs": [
    {
     "data": {
      "text/plain": [
       "9.3230976870831"
      ]
     },
     "execution_count": 41,
     "metadata": {},
     "output_type": "execute_result"
    }
   ],
   "source": [
    "linear_model.fit(dev_X, dev_Y)\n",
    "mean_absolute_error(test_Y, linear_model.predict(test_X))"
   ]
  },
  {
   "cell_type": "markdown",
   "id": "1a6dea73-015d-4b9a-9b1d-fd5cfaeacb03",
   "metadata": {},
   "source": [
    "<h1>Deployment</h1>"
   ]
  },
  {
   "cell_type": "code",
   "execution_count": null,
   "id": "2ecd4946-83dd-4fc2-99f4-b6342d64140a",
   "metadata": {},
   "outputs": [],
   "source": [
    "grid_search.fit(X, Y)\n",
    "#if x and y represeant whole dataset"
   ]
  }
 ],
 "metadata": {
  "kernelspec": {
   "display_name": "Python 3 (ipykernel)",
   "language": "python",
   "name": "python3"
  },
  "language_info": {
   "codemirror_mode": {
    "name": "ipython",
    "version": 3
   },
   "file_extension": ".py",
   "mimetype": "text/x-python",
   "name": "python",
   "nbconvert_exporter": "python",
   "pygments_lexer": "ipython3",
   "version": "3.9.6"
  }
 },
 "nbformat": 4,
 "nbformat_minor": 5
}
